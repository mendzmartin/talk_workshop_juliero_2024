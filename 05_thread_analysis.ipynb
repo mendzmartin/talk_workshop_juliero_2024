{
 "cells": [
  {
   "cell_type": "markdown",
   "metadata": {},
   "source": [
    "# Cuidados con la paralelización en Julia"
   ]
  },
  {
   "cell_type": "markdown",
   "metadata": {},
   "source": [
    "Reference: [PSA: Thread-local state is no longer recommended](https://julialang.org/blog/2023/07/PSA-dont-use-threadid/)\n",
    "\n",
    "Podemos analizar la escritura de \"codigo paralelo incorrecto\" como sigue:\n",
    "\n",
    "```julia\n",
    "using Base.Threads: nthreads, @threads, threadid\n",
    "\n",
    "states = [some_initial_value for _ in 1:nthreads()]\n",
    "@threads for x in some_data\n",
    "    tid = threadid()\n",
    "    old_value = states[tid]\n",
    "    new_value = some_operator(old_value, f(x))\n",
    "    states[tid] = new_value\n",
    "end\n",
    "do_something(states)\n",
    "```\n",
    "\n",
    "El código anterior es incorrecto porque las *taks* generadas por `@threads` pueden ceder el paso a otras *tasks* durante su ejecución. \n",
    "\n",
    "Entre la lectura de `old_value` y el almacenamiento en memoria de `new_value`, la *task* actual podría ser pausada y una nueva *task* que se ejecuta en el mismo *thread* con el mismo `threadid()` podría escribir simultáneamente a la variable `states[tid]`, causando una *race condition* y por lo tanto la pérdida de trabajo.\n",
    "\n",
    "Notemos que no se trata de un problema específico del *multithreading*, sino de un problema de concurrencia. (en la refencia hay un ejemplo demostrando que el problema presiste aún si usamos un único *thread* `julia --threads=1`)."
   ]
  },
  {
   "cell_type": "markdown",
   "metadata": {},
   "source": [
    "# Ejemplo simple"
   ]
  },
  {
   "cell_type": "code",
   "execution_count": 6,
   "metadata": {},
   "outputs": [
    {
     "name": "stderr",
     "output_type": "stream",
     "text": [
      "\u001b[32m\u001b[1m  Activating\u001b[22m\u001b[39m new project at `~/github_repositories/my_repositories/workshop_juliero/multithread`\n"
     ]
    },
    {
     "name": "stdout",
     "output_type": "stream",
     "text": [
      "\u001b[32m\u001b[1mStatus\u001b[22m\u001b[39m `~/github_repositories/my_repositories/workshop_juliero/multithread/Project.toml` (empty project)\n"
     ]
    }
   ],
   "source": [
    "using Pkg\n",
    "Pkg.activate(\"./\")\n",
    "Pkg.status()"
   ]
  },
  {
   "cell_type": "markdown",
   "metadata": {},
   "source": [
    "## Comparación entre versiones seriales y paralelizadas"
   ]
  },
  {
   "cell_type": "markdown",
   "metadata": {},
   "source": [
    "Supongamos que queremos calcular la siguiente operación:\n",
    "\n",
    "$$\n",
    "\\Large\n",
    "a=\\sum _{i=1}^{N} f(i)\n",
    "\\normalsize\n",
    "$$\n",
    "\n",
    "donde $f$ es alguna función arbitraria de $i$. Entonces, creamos diversas funciones para computar esto y vemos si producen distintos resultados."
   ]
  },
  {
   "cell_type": "markdown",
   "metadata": {},
   "source": [
    "### Versiones seriales"
   ]
  },
  {
   "cell_type": "code",
   "execution_count": 21,
   "metadata": {},
   "outputs": [
    {
     "data": {
      "text/plain": [
       "reduce_serial_01 (generic function with 1 method)"
      ]
     },
     "metadata": {},
     "output_type": "display_data"
    }
   ],
   "source": [
    "#=\n",
    "- Function\n",
    "    reduce_serial_01(f,N)\n",
    "- Description\n",
    "    This function calculates the sum of the results of the function f from 1 to n.\n",
    "- Arguments\n",
    "    `f::Function`: Function to be calculated\n",
    "    `N::Int`: The number of times the function is calculated\n",
    "- Output\n",
    "    `a`: Sum of the results of the function f from 1 to n\n",
    "=#\n",
    "function reduce_serial_01(f::Function,N::Int)\n",
    "    a=0.0\n",
    "    for i in 1:N\n",
    "        a+=f(i)\n",
    "    end\n",
    "    return a;\n",
    "end"
   ]
  },
  {
   "cell_type": "markdown",
   "metadata": {},
   "source": [
    "Versión compacta y generalizada"
   ]
  },
  {
   "cell_type": "code",
   "execution_count": 22,
   "metadata": {},
   "outputs": [],
   "source": [
    "#=\n",
    "- Function\n",
    "    reduce_serial_02(f,op,itr)\n",
    "- Description\n",
    "    This function calculates the result of the function f for each element of the iterator itr\n",
    "    and then calculates the result of the operation op.\n",
    "- Arguments\n",
    "    `f::Function``: Function to be calculated\n",
    "    `op`: Operation to be calculated\n",
    "    `itr`: Iterator\n",
    "- Output\n",
    "    `a`: Result of the operation op\n",
    "=#\n",
    "reduce_serial_02(f::Function,op,itr) = reduce(op,f.(itr));"
   ]
  },
  {
   "cell_type": "markdown",
   "metadata": {},
   "source": [
    "### Versiones paralelas"
   ]
  },
  {
   "cell_type": "markdown",
   "metadata": {},
   "source": [
    "Función análoga a `reduce_serial_01(f,N)` pero usando el macro `Threads.@threads`. Notemos que esta es un codigo paralelo incorrecto porque cada hay muchos *tasks* tratando de escribir al mismo lugar de memoria (en este caso en la variable `a`)."
   ]
  },
  {
   "cell_type": "code",
   "execution_count": 23,
   "metadata": {},
   "outputs": [
    {
     "data": {
      "text/plain": [
       "reduce_parallel_01 (generic function with 1 method)"
      ]
     },
     "metadata": {},
     "output_type": "display_data"
    }
   ],
   "source": [
    "function reduce_parallel_01(f::Function,N::Int)\n",
    "    a=0.0\n",
    "    Threads.@threads for i in 1:N\n",
    "        a+=f(i)\n",
    "    end\n",
    "    return a;\n",
    "end"
   ]
  },
  {
   "cell_type": "markdown",
   "metadata": {},
   "source": [
    "Función análoga a `reduce_serial_01(f,n)` pero usando el macro `Threads.@threads`. Además, tratamos de solucionar el problema de *race condition* de la función anterior `reduce_parallel_01(f,N)`."
   ]
  },
  {
   "cell_type": "code",
   "execution_count": 24,
   "metadata": {},
   "outputs": [
    {
     "data": {
      "text/plain": [
       "reduce_parallel_02 (generic function with 1 method)"
      ]
     },
     "metadata": {},
     "output_type": "display_data"
    }
   ],
   "source": [
    "function reduce_parallel_02(f::Function,N::Int)\n",
    "    a_values=zeros(N)\n",
    "    Threads.@threads for i in 1:N\n",
    "        a_values[i]=f(i)\n",
    "    end\n",
    "    return sum(a_values);\n",
    "end"
   ]
  },
  {
   "cell_type": "markdown",
   "metadata": {},
   "source": [
    "Versión extraida de la referencia (versión compacta y generalizada). Según la referencia es una función que posiblemente se agregue a codigo base de Julia."
   ]
  },
  {
   "cell_type": "code",
   "execution_count": 25,
   "metadata": {},
   "outputs": [
    {
     "data": {
      "text/plain": [
       "tmapreduce (generic function with 1 method)"
      ]
     },
     "metadata": {},
     "output_type": "display_data"
    }
   ],
   "source": [
    "using Base.Threads: nthreads, @spawn\n",
    "#=\n",
    "- Function\n",
    "    tmapreduce(f, op, itr; tasks_per_thread::Int = 2, kwargs...)\n",
    "- Aim\n",
    "    Perform a mapreduce operation on the function f.\n",
    "- Arguments\n",
    "    - f::Function: A function that takes an integer as input and returns an integer.\n",
    "    - op::Function: A function that takes two integers as input and returns an integer.\n",
    "    - itr::AbstractArray: An array of integers.\n",
    "    - tasks_per_thread::Int: An integer.\n",
    "    - kwargs: Keyword arguments.\n",
    "- Output\n",
    "    The result of the mapreduce operation.\n",
    "=#\n",
    "function tmapreduce(f, op, itr; tasks_per_thread::Int = 2, kwargs...)\n",
    "    chunk_size = max(1, length(itr) ÷ (tasks_per_thread * nthreads()))\n",
    "    tasks = map(Iterators.partition(itr, chunk_size)) do chunk\n",
    "        @spawn mapreduce(f, op, chunk; kwargs...)\n",
    "    end\n",
    "    mapreduce(fetch, op, tasks; kwargs...);\n",
    "end"
   ]
  },
  {
   "cell_type": "markdown",
   "metadata": {},
   "source": [
    "Ahora hacemos una versión un poco más explícita para enteder la función anterior"
   ]
  },
  {
   "cell_type": "markdown",
   "metadata": {},
   "source": [
    "**Overhead**: se refiere a que existen recursos adicionales (tiempo, memoria y poder de procesamiento) necesarios para gestionar y ejecutar una task más allá del trabajo real que se está realizando. Por ejemplo, en Julia crear, switchear y sincronizar tasks produce overhead.\n",
    "\n",
    "**Load balancing**: si tenemos pocos tasks por thread y como no sabemos cuántas operaciones requerirá cada task, algunos threads terminarán de trabajar y otros no. Y como el código debe esperar a que términe todo el paralelismo para poder seguir, lo anterior no es conveniente, porque podríamos tener mucho tiempo de threads sin trabajar. Si aumentamos más tasks por threads nos aseguramos de que cada threads utilice un tiempo considerable de computo.\n"
   ]
  },
  {
   "cell_type": "code",
   "execution_count": 26,
   "metadata": {},
   "outputs": [
    {
     "data": {
      "text/plain": [
       "reduce_parallel_03 (generic function with 1 method)"
      ]
     },
     "metadata": {},
     "output_type": "display_data"
    }
   ],
   "source": [
    "using Base.Threads: nthreads, @threads, @spawn\n",
    "using Base.Iterators: partition\n",
    "\n",
    "function reduce_parallel_03(f::Function,N::Int)\n",
    "    # customize this as needed. More tasks have more overhead, but better load balancing\n",
    "    tasks_per_thread = Threads.nthreads()\n",
    "    itr=1:N\n",
    "    # partition your data into chunks that individual tasks will deal with\n",
    "    chunk_size = max(1, length(itr) ÷ (tasks_per_thread * nthreads()))\n",
    "    tasks = map(Iterators.partition(itr, chunk_size)) do chunk\n",
    "        # Each chunk of your data gets its own spawned task that does its own local,\n",
    "        #  sequential work and then returns the result\n",
    "        @spawn begin\n",
    "            partial_sum=0.0\n",
    "            for i in chunk\n",
    "                partial_sum += f(i)\n",
    "            end\n",
    "            return partial_sum\n",
    "        end\n",
    "    end\n",
    "    # get all the values returned by the individual tasks. fetch is type unstable,\n",
    "    #  so you may optionally want to assert a specific return type.\n",
    "    partial_sums=fetch.(tasks)\n",
    "    # sum reduction\n",
    "    return sum(partial_sums);\n",
    "end"
   ]
  },
  {
   "cell_type": "markdown",
   "metadata": {},
   "source": [
    "En Julia, la \"type instability\" se refiere a situaciones en las que el tipo de una variable o expresión no puede determinarse en tiempo de compilación y puede cambiar durante la ejecución. Esto puede llevar a problemas de rendimiento porque el compilador de Julia no puede optimizar el código de manera eficiente, ya que no puede generar un código de máquina específico para un tipo conocido.\n",
    "\n",
    "Cuando el comentario dice \"fetch is type unstable\", significa que el resultado de `fetch(task)` no tiene un tipo predecible o consistente. Dado que `fetch` recupera el resultado de una computación que podría devolver diferentes tipos dependiendo de la entrada o función utilizada, el compilador no puede saber de antemano qué tipo recibirá. Esta falta de estabilidad de tipo puede llevar a una ejecución del código más lenta porque el tiempo de ejecución de Julia tiene que manejar la variabilidad de manera dinámica.\n",
    "\n",
    "Para mitigar esto, podrías especificar o asegurar un tipo de retorno específico cuando trabajes con `fetch` si sabes qué tipo de resultado esperar. Por ejemplo, si esperas que `fetch(task)` devuelva un `Float64`, podrías usar aserciones o anotaciones de tipo para informar al compilador, lo cual puede ayudar a mejorar el rendimiento."
   ]
  },
  {
   "cell_type": "markdown",
   "metadata": {},
   "source": [
    "### Ahora testeamos las funciones anteriores"
   ]
  },
  {
   "cell_type": "markdown",
   "metadata": {},
   "source": [
    "Consideramos que $f(i) = i$ y que $N=100$ entonces queremos calcular la siguiente expresión\n",
    "\n",
    "$$\n",
    "\\Large\n",
    "a=\\sum _{i=1}^{100} i = n(n+1)/2\n",
    "\\normalsize\n",
    "$$"
   ]
  },
  {
   "cell_type": "code",
   "execution_count": 37,
   "metadata": {},
   "outputs": [
    {
     "data": {
      "text/plain": [
       "f (generic function with 1 method)"
      ]
     },
     "metadata": {},
     "output_type": "display_data"
    }
   ],
   "source": [
    "N=200\n",
    "f(i)=i"
   ]
  },
  {
   "cell_type": "code",
   "execution_count": 41,
   "metadata": {},
   "outputs": [
    {
     "name": "stdout",
     "output_type": "stream",
     "text": [
      "Exact value = 20100.0\n"
     ]
    }
   ],
   "source": [
    "exact_value = N*(N+1)/2\n",
    "println(\"Exact value = $(exact_value)\")"
   ]
  },
  {
   "cell_type": "markdown",
   "metadata": {},
   "source": [
    "A priori, parecería ser que todas las funciones nos dan lo mismo."
   ]
  },
  {
   "cell_type": "code",
   "execution_count": 69,
   "metadata": {},
   "outputs": [
    {
     "name": "stdout",
     "output_type": "stream",
     "text": [
      "Single calculation version 1 = 20100.0\n",
      "Single calculation version 2 = 20100\n",
      "Parallel calculation version 1 = 20100.0\n",
      "Parallel calculation version 2 = 20100.0\n",
      "Parallel calculation version 3 = 20100\n",
      "Parallel calculation version 4 = 20100.0\n"
     ]
    }
   ],
   "source": [
    "println(\"Single calculation version 1 = $(reduce_serial_01(f,N))\")\n",
    "println(\"Single calculation version 2 = $(reduce_serial_02(f,+,[i for i in 1:N]))\")\n",
    "println(\"Parallel calculation version 1 = $(reduce_parallel_01(f,N))\")\n",
    "println(\"Parallel calculation version 2 = $(reduce_parallel_02(f,N))\")\n",
    "println(\"Parallel calculation version 3 = $(tmapreduce(f,+,[i for i in 1:N]))\")\n",
    "println(\"Parallel calculation version 4 = $(reduce_parallel_03(f,N))\")"
   ]
  },
  {
   "cell_type": "markdown",
   "metadata": {},
   "source": [
    "# Evidenciemos el problema de \"race condition\""
   ]
  },
  {
   "cell_type": "code",
   "execution_count": 42,
   "metadata": {},
   "outputs": [],
   "source": [
    "using Test"
   ]
  },
  {
   "cell_type": "markdown",
   "metadata": {},
   "source": [
    "Notemos que con la función `reduce_parallel_01(f,N)` tendremos errores en el resultado de forma no controlable."
   ]
  },
  {
   "cell_type": "code",
   "execution_count": 66,
   "metadata": {},
   "outputs": [
    {
     "name": "stdout",
     "output_type": "stream",
     "text": [
      "\u001b[0m\u001b[1mTest Summary:                     | \u001b[22m\u001b[32m\u001b[1mPass  \u001b[22m\u001b[39m\u001b[36m\u001b[1mTotal  \u001b[22m\u001b[39m\u001b[0m\u001b[1mTime\u001b[22m\n",
      "Check reduce_parallel_01 function | \u001b[32m   2  \u001b[39m\u001b[36m    2  \u001b[39m\u001b[0m0.0s\n"
     ]
    },
    {
     "data": {
      "text/plain": [
       "Test.DefaultTestSet(\"Check reduce_parallel_01 function\", Any[], 2, false, false, true, 1.722179391816403e9, 1.722179391817438e9, false)"
      ]
     },
     "metadata": {},
     "output_type": "display_data"
    }
   ],
   "source": [
    "@testset \"Check reduce_parallel_01 function\" begin\n",
    "    for i in 1:2\n",
    "        @test reduce_parallel_01(f,N) == exact_value\n",
    "    end\n",
    "end"
   ]
  },
  {
   "cell_type": "code",
   "execution_count": 68,
   "metadata": {},
   "outputs": [
    {
     "name": "stdout",
     "output_type": "stream",
     "text": [
      "Check reduce_parallel_01 function: \u001b[91m\u001b[1mTest Failed\u001b[22m\u001b[39m at \u001b[39m\u001b[1m/home/martin/github_repositories/my_repositories/workshop_juliero/multithread/jl_notebook_cell_df34fa98e69747e1a8f8a730347b8e2f_Y102sZmlsZQ==.jl:3\u001b[22m\n",
      "  Expression: reduce_parallel_01(f, N) == exact_value\n",
      "   Evaluated: 16325.0 == 20100.0\n",
      "\n",
      "Stacktrace:\n",
      " [1] \u001b[0m\u001b[1mmacro expansion\u001b[22m\n",
      "\u001b[90m   @\u001b[39m \u001b[90m~/Downloads/julia-1.9.0/share/julia/stdlib/v1.9/Test/src/\u001b[39m\u001b[90m\u001b[4mTest.jl:478\u001b[24m\u001b[39m\u001b[90m [inlined]\u001b[39m\n",
      " [2] \u001b[0m\u001b[1mmacro expansion\u001b[22m\n",
      "\u001b[90m   @\u001b[39m \u001b[90m~/github_repositories/my_repositories/workshop_juliero/multithread/\u001b[39m\u001b[90m\u001b[4mjl_notebook_cell_df34fa98e69747e1a8f8a730347b8e2f_Y102sZmlsZQ==.jl:3\u001b[24m\u001b[39m\u001b[90m [inlined]\u001b[39m\n",
      " [3] \u001b[0m\u001b[1mmacro expansion\u001b[22m\n",
      "\u001b[90m   @\u001b[39m \u001b[90m~/Downloads/julia-1.9.0/share/julia/stdlib/v1.9/Test/src/\u001b[39m\u001b[90m\u001b[4mTest.jl:1498\u001b[24m\u001b[39m\u001b[90m [inlined]\u001b[39m\n",
      " [4] top-level scope\n",
      "\u001b[90m   @\u001b[39m \u001b[90m~/github_repositories/my_repositories/workshop_juliero/multithread/\u001b[39m\u001b[90m\u001b[4mjl_notebook_cell_df34fa98e69747e1a8f8a730347b8e2f_Y102sZmlsZQ==.jl:2\u001b[24m\u001b[39m\n",
      "\u001b[0m\u001b[1mTest Summary:                     | \u001b[22m\u001b[32m\u001b[1mPass  \u001b[22m\u001b[39m\u001b[91m\u001b[1mFail  \u001b[22m\u001b[39m\u001b[36m\u001b[1mTotal  \u001b[22m\u001b[39m\u001b[0m\u001b[1mTime\u001b[22m\n",
      "Check reduce_parallel_01 function | \u001b[32m   1  \u001b[39m\u001b[91m   1  \u001b[39m\u001b[36m    2  \u001b[39m\u001b[0m0.0s\n"
     ]
    },
    {
     "ename": "TestSetException",
     "evalue": "Some tests did not pass: 1 passed, 1 failed, 0 errored, 0 broken.",
     "output_type": "error",
     "traceback": [
      "Some tests did not pass: 1 passed, 1 failed, 0 errored, 0 broken.\n",
      "\n",
      "Stacktrace:\n",
      " [1] finish(ts::Test.DefaultTestSet)\n",
      "   @ Test ~/Downloads/julia-1.9.0/share/julia/stdlib/v1.9/Test/src/Test.jl:1151\n",
      " [2] macro expansion\n",
      "   @ ~/Downloads/julia-1.9.0/share/julia/stdlib/v1.9/Test/src/Test.jl:1514 [inlined]\n",
      " [3] top-level scope\n",
      "   @ ~/github_repositories/my_repositories/workshop_juliero/multithread/jl_notebook_cell_df34fa98e69747e1a8f8a730347b8e2f_Y102sZmlsZQ==.jl:2"
     ]
    }
   ],
   "source": [
    "@testset \"Check reduce_parallel_01 function\" begin\n",
    "    for i in 1:2\n",
    "        @test reduce_parallel_01(f,N) == exact_value\n",
    "    end\n",
    "end"
   ]
  },
  {
   "cell_type": "markdown",
   "metadata": {},
   "source": [
    "Sin embargo el resto de funciónes nunca tienen problemas, por más de que las corramos muchas veces."
   ]
  },
  {
   "cell_type": "code",
   "execution_count": 72,
   "metadata": {},
   "outputs": [
    {
     "name": "stdout",
     "output_type": "stream",
     "text": [
      "\u001b[0m\u001b[1mTest Summary:          | \u001b[22m\u001b[32m\u001b[1mPass  \u001b[22m\u001b[39m\u001b[36m\u001b[1mTotal  \u001b[22m\u001b[39m\u001b[0m\u001b[1mTime\u001b[22m\n",
      "Check reduce_serial_01 | \u001b[32m 100  \u001b[39m\u001b[36m  100  \u001b[39m\u001b[0m0.0s\n",
      "\u001b[0m\u001b[1mTest Summary:          | \u001b[22m\u001b[32m\u001b[1mPass  \u001b[22m\u001b[39m\u001b[36m\u001b[1mTotal  \u001b[22m\u001b[39m\u001b[0m\u001b[1mTime\u001b[22m\n",
      "Check reduce_serial_02 | \u001b[32m 100  \u001b[39m\u001b[36m  100  \u001b[39m\u001b[0m0.0s\n",
      "\u001b[0m\u001b[1mTest Summary:            | \u001b[22m\u001b[32m\u001b[1mPass  \u001b[22m\u001b[39m\u001b[36m\u001b[1mTotal  \u001b[22m\u001b[39m\u001b[0m\u001b[1mTime\u001b[22m\n",
      "Check reduce_parallel_02 | \u001b[32m 100  \u001b[39m\u001b[36m  100  \u001b[39m\u001b[0m0.0s\n",
      "\u001b[0m\u001b[1mTest Summary:    | \u001b[22m\u001b[32m\u001b[1mPass  \u001b[22m\u001b[39m\u001b[36m\u001b[1mTotal  \u001b[22m\u001b[39m\u001b[0m\u001b[1mTime\u001b[22m\n",
      "Check tmapreduce | \u001b[32m 100  \u001b[39m\u001b[36m  100  \u001b[39m\u001b[0m0.0s\n",
      "\u001b[0m\u001b[1mTest Summary:    | \u001b[22m\u001b[32m\u001b[1mPass  \u001b[22m\u001b[39m\u001b[36m\u001b[1mTotal  \u001b[22m\u001b[39m\u001b[0m\u001b[1mTime\u001b[22m\n",
      "Check tmapreduce | \u001b[32m 100  \u001b[39m\u001b[36m  100  \u001b[39m\u001b[0m0.0s\n"
     ]
    },
    {
     "data": {
      "text/plain": [
       "Test.DefaultTestSet(\"Check tmapreduce\", Any[], 100, false, false, true, 1.7221795665905e9, 1.722179566608613e9, false)"
      ]
     },
     "metadata": {},
     "output_type": "display_data"
    }
   ],
   "source": [
    "@testset \"Check reduce_serial_01\" begin\n",
    "    for i in 1:100\n",
    "        @test reduce_serial_01(f,N) == exact_value\n",
    "    end\n",
    "end\n",
    "\n",
    "@testset \"Check reduce_serial_02\" begin\n",
    "    for i in 1:100\n",
    "        @test reduce_serial_02(f,+,[i for i in 1:N]) == exact_value\n",
    "    end\n",
    "end\n",
    "\n",
    "@testset \"Check reduce_parallel_02\" begin\n",
    "    for i in 1:100\n",
    "        @test reduce_parallel_02(f,N) == exact_value\n",
    "    end\n",
    "end\n",
    "\n",
    "@testset \"Check tmapreduce\" begin\n",
    "    for i in 1:100\n",
    "        @test tmapreduce(f,+,[i for i in 1:N]) == exact_value\n",
    "    end\n",
    "end\n",
    "\n",
    "@testset \"Check tmapreduce\" begin\n",
    "    for i in 1:100\n",
    "        @test reduce_parallel_03(f,N) == exact_value\n",
    "    end\n",
    "end"
   ]
  }
 ],
 "metadata": {
  "kernelspec": {
   "display_name": "Julia 1.9.0",
   "language": "julia",
   "name": "julia-1.9"
  },
  "language_info": {
   "file_extension": ".jl",
   "mimetype": "application/julia",
   "name": "julia",
   "version": "1.9.0"
  }
 },
 "nbformat": 4,
 "nbformat_minor": 2
}
